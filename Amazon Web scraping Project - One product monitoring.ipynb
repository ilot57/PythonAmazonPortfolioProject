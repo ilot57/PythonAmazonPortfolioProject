{
 "cells": [
  {
   "cell_type": "code",
   "execution_count": 97,
   "id": "678bb4f1",
   "metadata": {},
   "outputs": [],
   "source": [
    "#import libraries \n",
    "from bs4 import BeautifulSoup\n",
    "import requests\n",
    "import time\n",
    "import datetime\n",
    "import csv\n",
    "import pandas as pd\n",
    "\n",
    "import smtplib, ssl"
   ]
  },
  {
   "cell_type": "code",
   "execution_count": 23,
   "id": "bc2f97b6",
   "metadata": {},
   "outputs": [
    {
     "name": "stdout",
     "output_type": "stream",
     "text": [
      "$19.99\n",
      "\n",
      "                   Gildan Men's Crew T-Shirts, Multipack, Style G1100\n",
      "                  \n"
     ]
    }
   ],
   "source": [
    "#Connect to the website \n",
    "\n",
    "URL = 'https://www.amazon.com/Gildan-Mens-T-Shirt-Assortment-X-Large/dp/B077ZJXCTS/ref=sr_1_2?crid=AYMNYPTPMGCC&keywords=t-shirt&qid=1687426203&sprefix=tshir%2Caps%2C193&sr=8-2'\n",
    "\n",
    "headers = {\"User-Agent\": \"Mozilla/5.0 (Macintosh; Intel Mac OS X 10_15_7) AppleWebKit/537.36 (KHTML, like Gecko) Chrome/114.0.0.0 Safari/537.36\", \"Accept-Encoding\":\"gzip, deflate\", \"Accept\":\"text/html,application/xhtml+xml,application/xml;q=0.9,*/*;q=0.8\", \"DNT\":\"1\",\"Connection\":\"close\", \"Upgrade-Insecure-Requests\":\"1\"}\n",
    "\n",
    "page = requests.get(URL, headers=headers)\n",
    "\n",
    "soup1 = BeautifulSoup(page.content, \"html.parser\")\n",
    "\n",
    "soup2 = BeautifulSoup(soup1.prettify(),\"html.parser\")\n",
    "\n",
    "#get title\n",
    "\n",
    "title = soup2.find(id='productTitle').get_text()\n",
    "\n",
    "#get price (a bit moire complicated since the id changed lately)\n",
    "\n",
    "def get_price(soup):\n",
    "\n",
    "    try:\n",
    "         price = soup.find(\"span\", attrs={'class': 'a-offscreen'}).string.strip().replace(',', '')\n",
    "\n",
    "    except AttributeError:\n",
    "        price = \"\"\n",
    "\n",
    "    return price\n",
    "\n",
    "\n",
    "\n",
    "price = get_price(soup2)\n",
    "\n",
    "print (price)\n",
    "print (title)"
   ]
  },
  {
   "cell_type": "code",
   "execution_count": 36,
   "id": "c6e5d04b",
   "metadata": {},
   "outputs": [
    {
     "name": "stdout",
     "output_type": "stream",
     "text": [
      "Gildan Men's Crew T-Shirts, Multipack, Style G1100\n",
      "19.99\n"
     ]
    }
   ],
   "source": [
    "#remove the $ sign from price \n",
    "\n",
    "price = price.strip()[1:]\n",
    "\n",
    "#remove the blank spaces from title\n",
    "title = title.strip()\n",
    "\n",
    "\n",
    "print(title)\n",
    "print(price)"
   ]
  },
  {
   "cell_type": "code",
   "execution_count": 53,
   "id": "01c166b2",
   "metadata": {},
   "outputs": [
    {
     "name": "stdout",
     "output_type": "stream",
     "text": [
      "2023-06-22\n"
     ]
    }
   ],
   "source": [
    "#put timestamp\n",
    "\n",
    "today = datetime.date.today()\n",
    "\n",
    "print(today)"
   ]
  },
  {
   "cell_type": "code",
   "execution_count": 54,
   "id": "f4adce25",
   "metadata": {},
   "outputs": [],
   "source": [
    "#create and import in a csv file \n",
    "\n",
    "header = ['Title','Price','Date']\n",
    "data = [title,price,today]\n",
    "\n",
    "#with open('AmazonWebScraperDataset.csv', 'w', newline='', encoding='UTF8') as f:\n",
    "   # writer = csv.writer(f)\n",
    "   # writer.writerow(header)\n",
    "    #writer.writerow(data)"
   ]
  },
  {
   "cell_type": "code",
   "execution_count": 57,
   "id": "b6954144",
   "metadata": {},
   "outputs": [
    {
     "data": {
      "text/html": [
       "<div>\n",
       "<style scoped>\n",
       "    .dataframe tbody tr th:only-of-type {\n",
       "        vertical-align: middle;\n",
       "    }\n",
       "\n",
       "    .dataframe tbody tr th {\n",
       "        vertical-align: top;\n",
       "    }\n",
       "\n",
       "    .dataframe thead th {\n",
       "        text-align: right;\n",
       "    }\n",
       "</style>\n",
       "<table border=\"1\" class=\"dataframe\">\n",
       "  <thead>\n",
       "    <tr style=\"text-align: right;\">\n",
       "      <th></th>\n",
       "      <th>Title</th>\n",
       "      <th>Price</th>\n",
       "      <th>Date</th>\n",
       "    </tr>\n",
       "  </thead>\n",
       "  <tbody>\n",
       "    <tr>\n",
       "      <th>0</th>\n",
       "      <td>Gildan Men's Crew T-Shirts, Multipack, Style G...</td>\n",
       "      <td>19.99</td>\n",
       "      <td>2023-06-22</td>\n",
       "    </tr>\n",
       "    <tr>\n",
       "      <th>1</th>\n",
       "      <td>Gildan Men's Crew T-Shirts, Multipack, Style G...</td>\n",
       "      <td>19.99</td>\n",
       "      <td>2023-06-22</td>\n",
       "    </tr>\n",
       "  </tbody>\n",
       "</table>\n",
       "</div>"
      ],
      "text/plain": [
       "                                               Title  Price        Date\n",
       "0  Gildan Men's Crew T-Shirts, Multipack, Style G...  19.99  2023-06-22\n",
       "1  Gildan Men's Crew T-Shirts, Multipack, Style G...  19.99  2023-06-22"
      ]
     },
     "execution_count": 57,
     "metadata": {},
     "output_type": "execute_result"
    }
   ],
   "source": [
    "#read the csv file \n",
    "\n",
    "df = pd.read_csv('/Users/yacinelandolsi/Introduction Python Youtube/Pandas Tutorials/Web scraping project/AmazonWebScraperDataset.csv')\n",
    "df"
   ]
  },
  {
   "cell_type": "code",
   "execution_count": 56,
   "id": "84f50607",
   "metadata": {},
   "outputs": [],
   "source": [
    "#Appendgin data to csv\n",
    "\n",
    "with open('AmazonWebScraperDataset.csv', 'a+', newline='', encoding='UTF8') as f:\n",
    "    writer = csv.writer(f)\n",
    "    writer.writerow(data)"
   ]
  },
  {
   "cell_type": "code",
   "execution_count": 118,
   "id": "b7ec23cf",
   "metadata": {},
   "outputs": [],
   "source": [
    "#Create the function\n",
    "\n",
    "def check_price():\n",
    "    \n",
    "    URL = 'https://www.amazon.com/Gildan-Mens-T-Shirt-Assortment-X-Large/dp/B077ZJXCTS/ref=sr_1_2?crid=AYMNYPTPMGCC&keywords=t-shirt&qid=1687426203&sprefix=tshir%2Caps%2C193&sr=8-2'\n",
    "\n",
    "    headers = {\"User-Agent\": \"Mozilla/5.0 (Macintosh; Intel Mac OS X 10_15_7) AppleWebKit/537.36 (KHTML, like Gecko) Chrome/114.0.0.0 Safari/537.36\", \"Accept-Encoding\":\"gzip, deflate\", \"Accept\":\"text/html,application/xhtml+xml,application/xml;q=0.9,*/*;q=0.8\", \"DNT\":\"1\",\"Connection\":\"close\", \"Upgrade-Insecure-Requests\":\"1\"}\n",
    "\n",
    "    page = requests.get(URL, headers=headers)\n",
    "\n",
    "    soup1 = BeautifulSoup(page.content, \"html.parser\")\n",
    "\n",
    "    soup2 = BeautifulSoup(soup1.prettify(),\"html.parser\")\n",
    "\n",
    "    #get title\n",
    "\n",
    "    title = soup2.find(id='productTitle').get_text()\n",
    "\n",
    "    #get price (a bit moire complicated since the id changed lately)\n",
    "\n",
    "    def get_price(soup):\n",
    "\n",
    "        try:\n",
    "             price = soup.find(\"span\", attrs={'class': 'a-offscreen'}).string.strip().replace(',', '')\n",
    "\n",
    "        except AttributeError:\n",
    "            price = \"\"\n",
    "\n",
    "        return price\n",
    "\n",
    "    price = get_price(soup2)\n",
    "    \n",
    "    #remove blank space and $\n",
    "    \n",
    "    price = price.strip()[1:]\n",
    "\n",
    "    title = title.strip()\n",
    "\n",
    "    #put timestamp\n",
    "\n",
    "    today = datetime.date.today()\n",
    "    \n",
    "    #import/add to csv file\n",
    "    \n",
    "    header = ['Title','Price','Date']\n",
    "    data = [title,price,today]\n",
    "\n",
    "    with open('AmazonWebScraperDataset.csv', 'a+', newline='', encoding='UTF8') as f:\n",
    "        writer = csv.writer(f)\n",
    "        writer.writerow(data)\n",
    "      \n",
    "    #send an email if the price is below 14\n",
    "    \n",
    "    if(float(price) < 20):\n",
    "        send_email()\n",
    "        \n",
    "    "
   ]
  },
  {
   "cell_type": "code",
   "execution_count": 85,
   "id": "c9efce09",
   "metadata": {},
   "outputs": [
    {
     "ename": "KeyboardInterrupt",
     "evalue": "",
     "output_type": "error",
     "traceback": [
      "\u001b[0;31m---------------------------------------------------------------------------\u001b[0m",
      "\u001b[0;31mKeyboardInterrupt\u001b[0m                         Traceback (most recent call last)",
      "Cell \u001b[0;32mIn[85], line 3\u001b[0m\n\u001b[1;32m      1\u001b[0m \u001b[38;5;28;01mwhile\u001b[39;00m(\u001b[38;5;28;01mTrue\u001b[39;00m):\n\u001b[1;32m      2\u001b[0m     check_price()\n\u001b[0;32m----> 3\u001b[0m     \u001b[43mtime\u001b[49m\u001b[38;5;241;43m.\u001b[39;49m\u001b[43msleep\u001b[49m\u001b[43m(\u001b[49m\u001b[38;5;241;43m86400\u001b[39;49m\u001b[43m)\u001b[49m\n",
      "\u001b[0;31mKeyboardInterrupt\u001b[0m: "
     ]
    }
   ],
   "source": [
    "#automatised the process\n",
    "\n",
    "while(True):\n",
    "    check_price()\n",
    "    time.sleep(86400)"
   ]
  },
  {
   "cell_type": "code",
   "execution_count": 115,
   "id": "565a14d9",
   "metadata": {},
   "outputs": [],
   "source": [
    "#send en email alert when price reach a certain price\n",
    "\n",
    "import smtplib, ssl\n",
    "from email.message import EmailMessage\n",
    "\n",
    "def send_email():\n",
    "    port = 465  # For SSL\n",
    "    smtp_server = \"smtp.gmail.com\"\n",
    "    sender_email = \"yacine.landolsi@gmail.com\"  # Enter your address\n",
    "    receiver_email = \"yacine.landolsi1@gmail.com\"  # Enter receiver address\n",
    "    password = \"vtftqxpafoviuabm\"\n",
    "\n",
    "    msg = EmailMessage()\n",
    "    msg.set_content(\"Yacine, This is the moment we have been waiting for. Now is your chance to pick up the shirt of your dreams. Don't mess it up! Link here: https://www.amazon.com/Funny-Data-Systems-Business-Analyst/dp/B07FNW9FGJ/ref=sr_1_3?dchild=1&keywords=data+analyst+tshirt&qid=1626655184&sr=8-3\")\n",
    "    msg['Subject'] = \"The Shirt you want is below $20! Now is your chance to buy!\"\n",
    "    msg['From'] = sender_email\n",
    "    msg['To'] = receiver_email\n",
    "\n",
    "    context = ssl.create_default_context()\n",
    "    with smtplib.SMTP_SSL(smtp_server, port, context=context) as server:\n",
    "        server.login(sender_email, password)\n",
    "        server.send_message(msg, from_addr=sender_email, to_addrs=receiver_email)"
   ]
  },
  {
   "cell_type": "code",
   "execution_count": 114,
   "id": "2b78d647",
   "metadata": {},
   "outputs": [],
   "source": [
    "send_email()"
   ]
  },
  {
   "cell_type": "code",
   "execution_count": 119,
   "id": "263e86c8",
   "metadata": {},
   "outputs": [],
   "source": [
    "check_price()"
   ]
  },
  {
   "cell_type": "code",
   "execution_count": null,
   "id": "fb9dab56",
   "metadata": {},
   "outputs": [],
   "source": []
  }
 ],
 "metadata": {
  "kernelspec": {
   "display_name": "Python 3 (ipykernel)",
   "language": "python",
   "name": "python3"
  },
  "language_info": {
   "codemirror_mode": {
    "name": "ipython",
    "version": 3
   },
   "file_extension": ".py",
   "mimetype": "text/x-python",
   "name": "python",
   "nbconvert_exporter": "python",
   "pygments_lexer": "ipython3",
   "version": "3.10.9"
  }
 },
 "nbformat": 4,
 "nbformat_minor": 5
}
